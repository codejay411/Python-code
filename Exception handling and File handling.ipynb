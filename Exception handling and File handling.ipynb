{
 "cells": [
  {
   "cell_type": "markdown",
   "id": "8f54322c",
   "metadata": {},
   "source": [
    "### Exception handling"
   ]
  },
  {
   "cell_type": "markdown",
   "id": "846bb5f4",
   "metadata": {},
   "source": [
    "Exceptions are raised when some internal events occur which change the normal flow of the program."
   ]
  },
  {
   "cell_type": "code",
   "execution_count": 1,
   "id": "44ef0059",
   "metadata": {},
   "outputs": [],
   "source": [
    "a  = 100"
   ]
  },
  {
   "cell_type": "code",
   "execution_count": 2,
   "id": "e8de4216",
   "metadata": {},
   "outputs": [
    {
     "ename": "SyntaxError",
     "evalue": "invalid syntax (Temp/ipykernel_14584/3190672255.py, line 1)",
     "output_type": "error",
     "traceback": [
      "\u001b[1;36m  File \u001b[1;32m\"C:\\Users\\jaypr_ughx7yt\\AppData\\Local\\Temp/ipykernel_14584/3190672255.py\"\u001b[1;36m, line \u001b[1;32m1\u001b[0m\n\u001b[1;33m    if( a>50)\u001b[0m\n\u001b[1;37m             ^\u001b[0m\n\u001b[1;31mSyntaxError\u001b[0m\u001b[1;31m:\u001b[0m invalid syntax\n"
     ]
    }
   ],
   "source": [
    "if( a>50)\n",
    "print(\"a\")"
   ]
  },
  {
   "cell_type": "code",
   "execution_count": 3,
   "id": "76316643",
   "metadata": {},
   "outputs": [
    {
     "ename": "ZeroDivisionError",
     "evalue": "division by zero",
     "output_type": "error",
     "traceback": [
      "\u001b[1;31m---------------------------------------------------------------------------\u001b[0m",
      "\u001b[1;31mZeroDivisionError\u001b[0m                         Traceback (most recent call last)",
      "\u001b[1;32m~\\AppData\\Local\\Temp/ipykernel_14584/540768878.py\u001b[0m in \u001b[0;36m<module>\u001b[1;34m\u001b[0m\n\u001b[0;32m      1\u001b[0m \u001b[0mb\u001b[0m \u001b[1;33m=\u001b[0m \u001b[1;36m12\u001b[0m\u001b[1;33m\u001b[0m\u001b[1;33m\u001b[0m\u001b[0m\n\u001b[1;32m----> 2\u001b[1;33m \u001b[0mc\u001b[0m \u001b[1;33m=\u001b[0m \u001b[1;36m12\u001b[0m\u001b[1;33m/\u001b[0m\u001b[1;36m0\u001b[0m\u001b[1;33m\u001b[0m\u001b[1;33m\u001b[0m\u001b[0m\n\u001b[0m\u001b[0;32m      3\u001b[0m \u001b[0mprint\u001b[0m\u001b[1;33m(\u001b[0m\u001b[0mc\u001b[0m\u001b[1;33m)\u001b[0m\u001b[1;33m\u001b[0m\u001b[1;33m\u001b[0m\u001b[0m\n",
      "\u001b[1;31mZeroDivisionError\u001b[0m: division by zero"
     ]
    }
   ],
   "source": [
    "b = 12\n",
    "c = 12/0\n",
    "print(c)"
   ]
  },
  {
   "cell_type": "code",
   "execution_count": null,
   "id": "3f89105c",
   "metadata": {},
   "outputs": [],
   "source": [
    "# try and except statement"
   ]
  },
  {
   "cell_type": "code",
   "execution_count": 4,
   "id": "e33ff684",
   "metadata": {},
   "outputs": [
    {
     "name": "stdout",
     "output_type": "stream",
     "text": [
      "a number is not divided by 0\n"
     ]
    }
   ],
   "source": [
    "b = 12\n",
    "try:\n",
    "    c = 12/0\n",
    "    print(c)\n",
    "except:\n",
    "    print(\"a number is not divided by 0\")"
   ]
  },
  {
   "cell_type": "code",
   "execution_count": 5,
   "id": "25accef1",
   "metadata": {},
   "outputs": [
    {
     "ename": "TypeError",
     "evalue": "unsupported operand type(s) for +: 'int' and 'str'",
     "output_type": "error",
     "traceback": [
      "\u001b[1;31m---------------------------------------------------------------------------\u001b[0m",
      "\u001b[1;31mTypeError\u001b[0m                                 Traceback (most recent call last)",
      "\u001b[1;32m~\\AppData\\Local\\Temp/ipykernel_14584/1584246125.py\u001b[0m in \u001b[0;36m<module>\u001b[1;34m\u001b[0m\n\u001b[0;32m      1\u001b[0m \u001b[0mx\u001b[0m  \u001b[1;33m=\u001b[0m \u001b[1;36m5\u001b[0m\u001b[1;33m\u001b[0m\u001b[1;33m\u001b[0m\u001b[0m\n\u001b[0;32m      2\u001b[0m \u001b[0my\u001b[0m \u001b[1;33m=\u001b[0m \u001b[1;34m\"jay\"\u001b[0m\u001b[1;33m\u001b[0m\u001b[1;33m\u001b[0m\u001b[0m\n\u001b[1;32m----> 3\u001b[1;33m \u001b[0mprint\u001b[0m\u001b[1;33m(\u001b[0m\u001b[0mx\u001b[0m\u001b[1;33m+\u001b[0m\u001b[0my\u001b[0m\u001b[1;33m)\u001b[0m\u001b[1;33m\u001b[0m\u001b[1;33m\u001b[0m\u001b[0m\n\u001b[0m",
      "\u001b[1;31mTypeError\u001b[0m: unsupported operand type(s) for +: 'int' and 'str'"
     ]
    }
   ],
   "source": [
    "x  = 5\n",
    "y = \"jay\"\n",
    "print(x+y)"
   ]
  },
  {
   "cell_type": "code",
   "execution_count": 6,
   "id": "8dd7b2c5",
   "metadata": {},
   "outputs": [
    {
     "name": "stdout",
     "output_type": "stream",
     "text": [
      "can not add number and string\n"
     ]
    }
   ],
   "source": [
    "x = 5\n",
    "y = \"jay\"\n",
    "\n",
    "try:\n",
    "    print(x+y)\n",
    "\n",
    "except TypeError:\n",
    "    print(\"can not add number and string\")"
   ]
  },
  {
   "cell_type": "code",
   "execution_count": 7,
   "id": "63308f19",
   "metadata": {},
   "outputs": [
    {
     "name": "stdout",
     "output_type": "stream",
     "text": [
      "can not add number and string\n",
      "subscribe my channel\n"
     ]
    }
   ],
   "source": [
    "x = 5\n",
    "y = \"jay\"\n",
    "\n",
    "try:\n",
    "    print(x+y)\n",
    "\n",
    "except TypeError:\n",
    "    print(\"can not add number and string\")\n",
    "    \n",
    "finally:\n",
    "    print(\"subscribe my channel\")"
   ]
  },
  {
   "cell_type": "markdown",
   "id": "b3f0a0e6",
   "metadata": {},
   "source": [
    "### File handling"
   ]
  },
  {
   "cell_type": "code",
   "execution_count": 8,
   "id": "562f94b5",
   "metadata": {},
   "outputs": [],
   "source": [
    "# f = open(filename, mode)"
   ]
  },
  {
   "cell_type": "code",
   "execution_count": 21,
   "id": "81f06888",
   "metadata": {},
   "outputs": [],
   "source": [
    "file = open('File_handling.txt', 'r')"
   ]
  },
  {
   "cell_type": "code",
   "execution_count": 22,
   "id": "618b5a27",
   "metadata": {},
   "outputs": [
    {
     "data": {
      "text/plain": [
       "<_io.TextIOWrapper name='File_handling.txt' mode='r' encoding='cp1252'>"
      ]
     },
     "execution_count": 22,
     "metadata": {},
     "output_type": "execute_result"
    }
   ],
   "source": [
    "file"
   ]
  },
  {
   "cell_type": "code",
   "execution_count": 23,
   "id": "3e7c111c",
   "metadata": {},
   "outputs": [
    {
     "name": "stdout",
     "output_type": "stream",
     "text": [
      "My name is jay\n",
      "\n",
      "subscribe my channel\n",
      "\n",
      "like the video\n"
     ]
    }
   ],
   "source": [
    "for i in file:\n",
    "    print(i)"
   ]
  },
  {
   "cell_type": "code",
   "execution_count": 24,
   "id": "6fd9637f",
   "metadata": {},
   "outputs": [
    {
     "data": {
      "text/plain": [
       "'My name is jay\\nsubscribe my channel\\nlike the video'"
      ]
     },
     "execution_count": 24,
     "metadata": {},
     "output_type": "execute_result"
    }
   ],
   "source": [
    "file = open('File_handling.txt', 'r')\n",
    "file.read()"
   ]
  },
  {
   "cell_type": "code",
   "execution_count": 25,
   "id": "307716b0",
   "metadata": {},
   "outputs": [
    {
     "name": "stdout",
     "output_type": "stream",
     "text": [
      "My na\n"
     ]
    }
   ],
   "source": [
    "file = open('File_handling.txt', 'r')\n",
    "print(file.read(5))"
   ]
  },
  {
   "cell_type": "code",
   "execution_count": 26,
   "id": "041536b4",
   "metadata": {},
   "outputs": [
    {
     "name": "stdout",
     "output_type": "stream",
     "text": [
      "My name is jay\n",
      "\n"
     ]
    }
   ],
   "source": [
    "file = open('File_handling.txt', 'r')\n",
    "print(file.read(15))"
   ]
  },
  {
   "cell_type": "code",
   "execution_count": 27,
   "id": "7a13647a",
   "metadata": {},
   "outputs": [
    {
     "name": "stdout",
     "output_type": "stream",
     "text": [
      "My name is jay\n",
      "subscribe my channel\n",
      "like the video\n"
     ]
    }
   ],
   "source": [
    "with open('File_handling.txt') as file:\n",
    "    data = file.read()\n",
    "print(data)"
   ]
  },
  {
   "cell_type": "code",
   "execution_count": 28,
   "id": "8409d1e2",
   "metadata": {},
   "outputs": [
    {
     "name": "stdout",
     "output_type": "stream",
     "text": [
      "My name is jay\n",
      "\n"
     ]
    }
   ],
   "source": [
    "with open('File_handling.txt') as file:\n",
    "    data = file.readline()\n",
    "print(data)"
   ]
  },
  {
   "cell_type": "code",
   "execution_count": 29,
   "id": "56d643ab",
   "metadata": {},
   "outputs": [
    {
     "name": "stdout",
     "output_type": "stream",
     "text": [
      "['My name is jay\\n', 'subscribe my channel\\n', 'like the video']\n"
     ]
    }
   ],
   "source": [
    "with open('File_handling.txt') as file:\n",
    "    data = file.readlines()\n",
    "print(data)"
   ]
  },
  {
   "cell_type": "code",
   "execution_count": 30,
   "id": "111d3765",
   "metadata": {},
   "outputs": [],
   "source": [
    "# Write\n"
   ]
  },
  {
   "cell_type": "code",
   "execution_count": 31,
   "id": "cc041c3c",
   "metadata": {},
   "outputs": [],
   "source": [
    "file1 = open('file.txt', 'w')\n",
    "file1.write(\"This is my tutorial\")\n",
    "file1.close()"
   ]
  },
  {
   "cell_type": "code",
   "execution_count": 32,
   "id": "7b4f0b18",
   "metadata": {},
   "outputs": [],
   "source": [
    "file1 = open('file.txt', 'a')\n",
    "file1.write(\"please like the video !!\")\n",
    "file1.close()"
   ]
  },
  {
   "cell_type": "code",
   "execution_count": 33,
   "id": "f0419ef6",
   "metadata": {},
   "outputs": [
    {
     "name": "stdout",
     "output_type": "stream",
     "text": [
      "This is my tutorialplease like the video !!\n"
     ]
    }
   ],
   "source": [
    "with open('file.txt') as file:\n",
    "    data = file.read()\n",
    "print(data)"
   ]
  },
  {
   "cell_type": "code",
   "execution_count": null,
   "id": "60b77640",
   "metadata": {},
   "outputs": [],
   "source": []
  }
 ],
 "metadata": {
  "kernelspec": {
   "display_name": "Python 3 (ipykernel)",
   "language": "python",
   "name": "python3"
  },
  "language_info": {
   "codemirror_mode": {
    "name": "ipython",
    "version": 3
   },
   "file_extension": ".py",
   "mimetype": "text/x-python",
   "name": "python",
   "nbconvert_exporter": "python",
   "pygments_lexer": "ipython3",
   "version": "3.9.7"
  }
 },
 "nbformat": 4,
 "nbformat_minor": 5
}
