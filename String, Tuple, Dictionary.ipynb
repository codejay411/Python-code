{
 "cells": [
  {
   "cell_type": "markdown",
   "id": "6137bae2",
   "metadata": {},
   "source": [
    "### String"
   ]
  },
  {
   "cell_type": "markdown",
   "id": "1c41e903",
   "metadata": {},
   "source": [
    "A string is a data structure in Python that represents a sequence of characters. It is an immutable data type, meaning that once you have created a string, you cannot change it. Strings are used widely in many different applications, such as storing and manipulating text data, representing names, addresses, and other types of data that can be represented as text."
   ]
  },
  {
   "cell_type": "code",
   "execution_count": 1,
   "id": "87b0516c",
   "metadata": {},
   "outputs": [],
   "source": [
    "a = 'codejay'"
   ]
  },
  {
   "cell_type": "code",
   "execution_count": 2,
   "id": "4d8963ab",
   "metadata": {},
   "outputs": [],
   "source": [
    "b = \"coding\""
   ]
  },
  {
   "cell_type": "code",
   "execution_count": 3,
   "id": "68c232ed",
   "metadata": {},
   "outputs": [
    {
     "data": {
      "text/plain": [
       "str"
      ]
     },
     "execution_count": 3,
     "metadata": {},
     "output_type": "execute_result"
    }
   ],
   "source": [
    "type(a)"
   ]
  },
  {
   "cell_type": "code",
   "execution_count": 4,
   "id": "67e9ccb3",
   "metadata": {},
   "outputs": [
    {
     "data": {
      "text/plain": [
       "str"
      ]
     },
     "execution_count": 4,
     "metadata": {},
     "output_type": "execute_result"
    }
   ],
   "source": [
    "type(b)"
   ]
  },
  {
   "cell_type": "code",
   "execution_count": 5,
   "id": "7be41697",
   "metadata": {},
   "outputs": [],
   "source": [
    "c = '''Python tutorial'''"
   ]
  },
  {
   "cell_type": "code",
   "execution_count": 6,
   "id": "67ce3de0",
   "metadata": {},
   "outputs": [
    {
     "data": {
      "text/plain": [
       "str"
      ]
     },
     "execution_count": 6,
     "metadata": {},
     "output_type": "execute_result"
    }
   ],
   "source": [
    "type(c)"
   ]
  },
  {
   "cell_type": "code",
   "execution_count": 7,
   "id": "c18303cd",
   "metadata": {},
   "outputs": [],
   "source": [
    "d = \" I'm is a student\""
   ]
  },
  {
   "cell_type": "code",
   "execution_count": 8,
   "id": "18f6b4ff",
   "metadata": {},
   "outputs": [
    {
     "data": {
      "text/plain": [
       "str"
      ]
     },
     "execution_count": 8,
     "metadata": {},
     "output_type": "execute_result"
    }
   ],
   "source": [
    "type(d)"
   ]
  },
  {
   "cell_type": "code",
   "execution_count": 9,
   "id": "24a9e949",
   "metadata": {},
   "outputs": [
    {
     "data": {
      "text/plain": [
       "'codejay'"
      ]
     },
     "execution_count": 9,
     "metadata": {},
     "output_type": "execute_result"
    }
   ],
   "source": [
    "a"
   ]
  },
  {
   "cell_type": "code",
   "execution_count": 10,
   "id": "56f2bb64",
   "metadata": {},
   "outputs": [
    {
     "data": {
      "text/plain": [
       "'c'"
      ]
     },
     "execution_count": 10,
     "metadata": {},
     "output_type": "execute_result"
    }
   ],
   "source": [
    "a[0]"
   ]
  },
  {
   "cell_type": "code",
   "execution_count": 11,
   "id": "2c4e78c9",
   "metadata": {},
   "outputs": [
    {
     "data": {
      "text/plain": [
       "'j'"
      ]
     },
     "execution_count": 11,
     "metadata": {},
     "output_type": "execute_result"
    }
   ],
   "source": [
    "a[4]"
   ]
  },
  {
   "cell_type": "code",
   "execution_count": 12,
   "id": "63d3bc67",
   "metadata": {},
   "outputs": [
    {
     "data": {
      "text/plain": [
       "'y'"
      ]
     },
     "execution_count": 12,
     "metadata": {},
     "output_type": "execute_result"
    }
   ],
   "source": [
    "a[-1]"
   ]
  },
  {
   "cell_type": "code",
   "execution_count": 13,
   "id": "2a70e162",
   "metadata": {},
   "outputs": [
    {
     "data": {
      "text/plain": [
       "'yajedoc'"
      ]
     },
     "execution_count": 13,
     "metadata": {},
     "output_type": "execute_result"
    }
   ],
   "source": [
    "# Reverse\n",
    "a[::-1]"
   ]
  },
  {
   "cell_type": "code",
   "execution_count": 14,
   "id": "4041daec",
   "metadata": {},
   "outputs": [
    {
     "data": {
      "text/plain": [
       "'od'"
      ]
     },
     "execution_count": 14,
     "metadata": {},
     "output_type": "execute_result"
    }
   ],
   "source": [
    "a[1:3]"
   ]
  },
  {
   "cell_type": "code",
   "execution_count": 15,
   "id": "c43dffc1",
   "metadata": {},
   "outputs": [
    {
     "data": {
      "text/plain": [
       "'odej'"
      ]
     },
     "execution_count": 15,
     "metadata": {},
     "output_type": "execute_result"
    }
   ],
   "source": [
    "a[1:-2]"
   ]
  },
  {
   "cell_type": "code",
   "execution_count": 16,
   "id": "09bde0a0",
   "metadata": {},
   "outputs": [],
   "source": [
    "# update and delete "
   ]
  },
  {
   "cell_type": "code",
   "execution_count": 17,
   "id": "d60d4e9c",
   "metadata": {},
   "outputs": [
    {
     "data": {
      "text/plain": [
       "'codejay'"
      ]
     },
     "execution_count": 17,
     "metadata": {},
     "output_type": "execute_result"
    }
   ],
   "source": [
    "a"
   ]
  },
  {
   "cell_type": "code",
   "execution_count": 18,
   "id": "d4af4b4e",
   "metadata": {},
   "outputs": [],
   "source": [
    "#  i want to replace j with p"
   ]
  },
  {
   "cell_type": "code",
   "execution_count": 19,
   "id": "c2a68ab7",
   "metadata": {},
   "outputs": [],
   "source": [
    "b = list(a)"
   ]
  },
  {
   "cell_type": "code",
   "execution_count": 20,
   "id": "13571adf",
   "metadata": {},
   "outputs": [
    {
     "data": {
      "text/plain": [
       "['c', 'o', 'd', 'e', 'j', 'a', 'y']"
      ]
     },
     "execution_count": 20,
     "metadata": {},
     "output_type": "execute_result"
    }
   ],
   "source": [
    "b"
   ]
  },
  {
   "cell_type": "code",
   "execution_count": 21,
   "id": "8656deee",
   "metadata": {},
   "outputs": [],
   "source": [
    "b[4] = 'p'"
   ]
  },
  {
   "cell_type": "code",
   "execution_count": 22,
   "id": "5427a47a",
   "metadata": {},
   "outputs": [],
   "source": [
    "b = ''.join(b)"
   ]
  },
  {
   "cell_type": "code",
   "execution_count": 23,
   "id": "6842ecaa",
   "metadata": {},
   "outputs": [
    {
     "data": {
      "text/plain": [
       "'codepay'"
      ]
     },
     "execution_count": 23,
     "metadata": {},
     "output_type": "execute_result"
    }
   ],
   "source": [
    "b"
   ]
  },
  {
   "cell_type": "code",
   "execution_count": 24,
   "id": "492ec302",
   "metadata": {},
   "outputs": [
    {
     "data": {
      "text/plain": [
       "'codepay'"
      ]
     },
     "execution_count": 24,
     "metadata": {},
     "output_type": "execute_result"
    }
   ],
   "source": [
    "a[:4] + 'p' + a[5:]"
   ]
  },
  {
   "cell_type": "code",
   "execution_count": 28,
   "id": "cd8e48d4",
   "metadata": {},
   "outputs": [],
   "source": [
    "name = \"Computer\"\n",
    "name2 = \"laptop\""
   ]
  },
  {
   "cell_type": "code",
   "execution_count": 26,
   "id": "b789ffd6",
   "metadata": {},
   "outputs": [],
   "source": [
    "string1 = \"{} is my name.\".format(name)"
   ]
  },
  {
   "cell_type": "code",
   "execution_count": 27,
   "id": "fd1a232c",
   "metadata": {},
   "outputs": [
    {
     "data": {
      "text/plain": [
       "'Computer is my name.'"
      ]
     },
     "execution_count": 27,
     "metadata": {},
     "output_type": "execute_result"
    }
   ],
   "source": [
    "string1"
   ]
  },
  {
   "cell_type": "code",
   "execution_count": 29,
   "id": "1b976045",
   "metadata": {},
   "outputs": [],
   "source": [
    "string2 = \"{} {} is my name.\".format(name, name2)"
   ]
  },
  {
   "cell_type": "code",
   "execution_count": 30,
   "id": "a80d5e05",
   "metadata": {},
   "outputs": [
    {
     "data": {
      "text/plain": [
       "'Computer laptop is my name.'"
      ]
     },
     "execution_count": 30,
     "metadata": {},
     "output_type": "execute_result"
    }
   ],
   "source": [
    "string2"
   ]
  },
  {
   "cell_type": "markdown",
   "id": "90761818",
   "metadata": {},
   "source": [
    "### Tuple"
   ]
  },
  {
   "cell_type": "markdown",
   "id": "4f6643c4",
   "metadata": {},
   "source": [
    "Python Tuple is a collection of objects separated by commas. In some ways, a tuple is similar to a Python list in terms of indexing, nested objects, and repetition but the main difference between both is Python tuple is immutable, unlike the Python list which is mutable."
   ]
  },
  {
   "cell_type": "code",
   "execution_count": 31,
   "id": "c36afc6a",
   "metadata": {},
   "outputs": [],
   "source": [
    "var = ('jay', 'mahesh', 'ramesh')"
   ]
  },
  {
   "cell_type": "code",
   "execution_count": 32,
   "id": "c8215539",
   "metadata": {},
   "outputs": [
    {
     "data": {
      "text/plain": [
       "tuple"
      ]
     },
     "execution_count": 32,
     "metadata": {},
     "output_type": "execute_result"
    }
   ],
   "source": [
    "type(var)"
   ]
  },
  {
   "cell_type": "code",
   "execution_count": 33,
   "id": "65144550",
   "metadata": {},
   "outputs": [],
   "source": [
    "var1 = ('jay')"
   ]
  },
  {
   "cell_type": "code",
   "execution_count": 34,
   "id": "7cf857d4",
   "metadata": {},
   "outputs": [
    {
     "data": {
      "text/plain": [
       "str"
      ]
     },
     "execution_count": 34,
     "metadata": {},
     "output_type": "execute_result"
    }
   ],
   "source": [
    "type(var1)"
   ]
  },
  {
   "cell_type": "code",
   "execution_count": 35,
   "id": "cd06a01f",
   "metadata": {},
   "outputs": [],
   "source": [
    "var2 = ('jay',)"
   ]
  },
  {
   "cell_type": "code",
   "execution_count": 36,
   "id": "81e0ed76",
   "metadata": {},
   "outputs": [
    {
     "data": {
      "text/plain": [
       "tuple"
      ]
     },
     "execution_count": 36,
     "metadata": {},
     "output_type": "execute_result"
    }
   ],
   "source": [
    "type(var2)"
   ]
  },
  {
   "cell_type": "code",
   "execution_count": 37,
   "id": "edb6d9a7",
   "metadata": {},
   "outputs": [],
   "source": [
    "mytuple = (1,2,3,4,5)"
   ]
  },
  {
   "cell_type": "code",
   "execution_count": 38,
   "id": "015a0b4b",
   "metadata": {},
   "outputs": [
    {
     "ename": "TypeError",
     "evalue": "'tuple' object does not support item assignment",
     "output_type": "error",
     "traceback": [
      "\u001b[1;31m---------------------------------------------------------------------------\u001b[0m",
      "\u001b[1;31mTypeError\u001b[0m                                 Traceback (most recent call last)",
      "\u001b[1;32m~\\AppData\\Local\\Temp/ipykernel_3852/2758807227.py\u001b[0m in \u001b[0;36m<module>\u001b[1;34m\u001b[0m\n\u001b[1;32m----> 1\u001b[1;33m \u001b[0mmytuple\u001b[0m\u001b[1;33m[\u001b[0m\u001b[1;36m2\u001b[0m\u001b[1;33m]\u001b[0m \u001b[1;33m=\u001b[0m \u001b[1;36m6\u001b[0m\u001b[1;33m\u001b[0m\u001b[1;33m\u001b[0m\u001b[0m\n\u001b[0m",
      "\u001b[1;31mTypeError\u001b[0m: 'tuple' object does not support item assignment"
     ]
    }
   ],
   "source": [
    "mytuple[2] = 6"
   ]
  },
  {
   "cell_type": "code",
   "execution_count": 39,
   "id": "5c12b60c",
   "metadata": {},
   "outputs": [
    {
     "data": {
      "text/plain": [
       "(1, 2, 3, 4, 5)"
      ]
     },
     "execution_count": 39,
     "metadata": {},
     "output_type": "execute_result"
    }
   ],
   "source": [
    "mytuple"
   ]
  },
  {
   "cell_type": "code",
   "execution_count": 40,
   "id": "37fcea75",
   "metadata": {},
   "outputs": [
    {
     "data": {
      "text/plain": [
       "4"
      ]
     },
     "execution_count": 40,
     "metadata": {},
     "output_type": "execute_result"
    }
   ],
   "source": [
    "mytuple[3]"
   ]
  },
  {
   "cell_type": "code",
   "execution_count": 41,
   "id": "88c36c92",
   "metadata": {},
   "outputs": [
    {
     "data": {
      "text/plain": [
       "(3, 4)"
      ]
     },
     "execution_count": 41,
     "metadata": {},
     "output_type": "execute_result"
    }
   ],
   "source": [
    "mytuple[2:4]"
   ]
  },
  {
   "cell_type": "code",
   "execution_count": 42,
   "id": "28a86d56",
   "metadata": {},
   "outputs": [
    {
     "data": {
      "text/plain": [
       "(1, 2, 3)"
      ]
     },
     "execution_count": 42,
     "metadata": {},
     "output_type": "execute_result"
    }
   ],
   "source": [
    "mytuple[:-2]"
   ]
  },
  {
   "cell_type": "markdown",
   "id": "4ac0d042",
   "metadata": {},
   "source": [
    "### Dictionary"
   ]
  },
  {
   "cell_type": "markdown",
   "id": "9aa9327b",
   "metadata": {},
   "source": [
    "Dictionary in Python is a collection of keys values, used to store data values like a map, which, unlike other data types which hold only a single value as an element."
   ]
  },
  {
   "cell_type": "code",
   "execution_count": 43,
   "id": "2e43ce5e",
   "metadata": {},
   "outputs": [],
   "source": [
    "dict1 = {1:'jay', 2:'ramesh'}"
   ]
  },
  {
   "cell_type": "code",
   "execution_count": 44,
   "id": "ff5fa0aa",
   "metadata": {},
   "outputs": [
    {
     "data": {
      "text/plain": [
       "dict"
      ]
     },
     "execution_count": 44,
     "metadata": {},
     "output_type": "execute_result"
    }
   ],
   "source": [
    "type(dict1)"
   ]
  },
  {
   "cell_type": "code",
   "execution_count": 45,
   "id": "14151aa5",
   "metadata": {},
   "outputs": [],
   "source": [
    "dict1 = {1:'jay', 2:'ramesh', 3: [1,2,3]}"
   ]
  },
  {
   "cell_type": "code",
   "execution_count": 46,
   "id": "1cff9b55",
   "metadata": {},
   "outputs": [
    {
     "data": {
      "text/plain": [
       "{1: 'jay', 2: 'ramesh', 3: [1, 2, 3]}"
      ]
     },
     "execution_count": 46,
     "metadata": {},
     "output_type": "execute_result"
    }
   ],
   "source": [
    "dict1"
   ]
  },
  {
   "cell_type": "code",
   "execution_count": 47,
   "id": "615b3711",
   "metadata": {},
   "outputs": [],
   "source": [
    "dict2 = {}"
   ]
  },
  {
   "cell_type": "code",
   "execution_count": 48,
   "id": "7b18a691",
   "metadata": {},
   "outputs": [],
   "source": [
    "dict2['name'] = 'jay'\n",
    "dict2['roll'] = 23"
   ]
  },
  {
   "cell_type": "code",
   "execution_count": 49,
   "id": "638cc838",
   "metadata": {},
   "outputs": [
    {
     "data": {
      "text/plain": [
       "{'name': 'jay', 'roll': 23}"
      ]
     },
     "execution_count": 49,
     "metadata": {},
     "output_type": "execute_result"
    }
   ],
   "source": [
    "dict2"
   ]
  },
  {
   "cell_type": "code",
   "execution_count": 50,
   "id": "5a2cb07d",
   "metadata": {},
   "outputs": [],
   "source": [
    "del(dict2['roll'])"
   ]
  },
  {
   "cell_type": "code",
   "execution_count": 51,
   "id": "53a25cd6",
   "metadata": {},
   "outputs": [
    {
     "data": {
      "text/plain": [
       "{'name': 'jay'}"
      ]
     },
     "execution_count": 51,
     "metadata": {},
     "output_type": "execute_result"
    }
   ],
   "source": [
    "dict2"
   ]
  },
  {
   "cell_type": "code",
   "execution_count": 52,
   "id": "0d67bd1a",
   "metadata": {},
   "outputs": [],
   "source": [
    "dict1 = {1:'jay', 2:'ramesh', 3: [1,2,3]}"
   ]
  },
  {
   "cell_type": "code",
   "execution_count": 53,
   "id": "cc961fd4",
   "metadata": {},
   "outputs": [
    {
     "data": {
      "text/plain": [
       "'ramesh'"
      ]
     },
     "execution_count": 53,
     "metadata": {},
     "output_type": "execute_result"
    }
   ],
   "source": [
    "dict1[2]"
   ]
  },
  {
   "cell_type": "code",
   "execution_count": 54,
   "id": "6f38dea6",
   "metadata": {},
   "outputs": [
    {
     "data": {
      "text/plain": [
       "2"
      ]
     },
     "execution_count": 54,
     "metadata": {},
     "output_type": "execute_result"
    }
   ],
   "source": [
    "dict1[3][1]"
   ]
  },
  {
   "cell_type": "code",
   "execution_count": null,
   "id": "2f4181a3",
   "metadata": {},
   "outputs": [],
   "source": []
  }
 ],
 "metadata": {
  "kernelspec": {
   "display_name": "Python 3 (ipykernel)",
   "language": "python",
   "name": "python3"
  },
  "language_info": {
   "codemirror_mode": {
    "name": "ipython",
    "version": 3
   },
   "file_extension": ".py",
   "mimetype": "text/x-python",
   "name": "python",
   "nbconvert_exporter": "python",
   "pygments_lexer": "ipython3",
   "version": "3.9.7"
  }
 },
 "nbformat": 4,
 "nbformat_minor": 5
}
