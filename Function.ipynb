{
 "cells": [
  {
   "cell_type": "markdown",
   "id": "a5def3cf",
   "metadata": {},
   "source": [
    "1. In built function\n",
    "2. user defined function"
   ]
  },
  {
   "cell_type": "code",
   "execution_count": 1,
   "id": "486bbc9d",
   "metadata": {},
   "outputs": [
    {
     "name": "stdout",
     "output_type": "stream",
     "text": [
      "codejay\n"
     ]
    }
   ],
   "source": [
    "print(\"codejay\")"
   ]
  },
  {
   "cell_type": "code",
   "execution_count": 3,
   "id": "21127cf5",
   "metadata": {},
   "outputs": [
    {
     "data": {
      "text/plain": [
       "4.0"
      ]
     },
     "execution_count": 3,
     "metadata": {},
     "output_type": "execute_result"
    }
   ],
   "source": [
    "float(4)"
   ]
  },
  {
   "cell_type": "code",
   "execution_count": 4,
   "id": "7da6b5c3",
   "metadata": {},
   "outputs": [],
   "source": [
    "# user defined function"
   ]
  },
  {
   "cell_type": "code",
   "execution_count": 5,
   "id": "fb560b55",
   "metadata": {},
   "outputs": [],
   "source": [
    "def fun():\n",
    "    print(\"jay\")"
   ]
  },
  {
   "cell_type": "code",
   "execution_count": 6,
   "id": "4c3e25ad",
   "metadata": {},
   "outputs": [
    {
     "name": "stdout",
     "output_type": "stream",
     "text": [
      "jay\n"
     ]
    }
   ],
   "source": [
    "fun()"
   ]
  },
  {
   "cell_type": "code",
   "execution_count": 7,
   "id": "4745c633",
   "metadata": {},
   "outputs": [],
   "source": [
    "def act(a):\n",
    "    print(a)"
   ]
  },
  {
   "cell_type": "code",
   "execution_count": 8,
   "id": "5b7b3ce9",
   "metadata": {},
   "outputs": [
    {
     "name": "stdout",
     "output_type": "stream",
     "text": [
      "4\n"
     ]
    }
   ],
   "source": [
    "act(4)"
   ]
  },
  {
   "cell_type": "code",
   "execution_count": 9,
   "id": "19b09738",
   "metadata": {},
   "outputs": [
    {
     "name": "stdout",
     "output_type": "stream",
     "text": [
      "jay prakash\n"
     ]
    }
   ],
   "source": [
    "act(\"jay prakash\")"
   ]
  },
  {
   "cell_type": "code",
   "execution_count": 10,
   "id": "e4823d4f",
   "metadata": {},
   "outputs": [],
   "source": [
    "# sum of two number\n",
    "def add(num1, num2):\n",
    "    print(num1 + num2)\n"
   ]
  },
  {
   "cell_type": "code",
   "execution_count": 11,
   "id": "10155bbb",
   "metadata": {},
   "outputs": [
    {
     "name": "stdout",
     "output_type": "stream",
     "text": [
      "9\n"
     ]
    }
   ],
   "source": [
    "add(3, 6)"
   ]
  },
  {
   "cell_type": "code",
   "execution_count": 12,
   "id": "94ecc260",
   "metadata": {},
   "outputs": [],
   "source": [
    "def add(num1, num2):\n",
    "    num3 = num1+num2\n",
    "    return num3\n"
   ]
  },
  {
   "cell_type": "code",
   "execution_count": 17,
   "id": "25ca970d",
   "metadata": {},
   "outputs": [],
   "source": [
    "addition = add(3,5)"
   ]
  },
  {
   "cell_type": "code",
   "execution_count": 18,
   "id": "d86afe6d",
   "metadata": {},
   "outputs": [
    {
     "data": {
      "text/plain": [
       "8"
      ]
     },
     "execution_count": 18,
     "metadata": {},
     "output_type": "execute_result"
    }
   ],
   "source": [
    "addition"
   ]
  },
  {
   "cell_type": "markdown",
   "id": "28a8fec1",
   "metadata": {},
   "source": [
    "## Module function"
   ]
  },
  {
   "cell_type": "code",
   "execution_count": 19,
   "id": "971acd89",
   "metadata": {},
   "outputs": [],
   "source": [
    "def add(x,y):\n",
    "    return (x+y)\n",
    "\n",
    "def sub(x,y):\n",
    "    return (x-y)"
   ]
  },
  {
   "cell_type": "code",
   "execution_count": 20,
   "id": "7772b42c",
   "metadata": {},
   "outputs": [],
   "source": [
    "# save a file by extension .py"
   ]
  },
  {
   "cell_type": "code",
   "execution_count": 21,
   "id": "fd74b340",
   "metadata": {},
   "outputs": [],
   "source": [
    "# import multiplication"
   ]
  },
  {
   "cell_type": "code",
   "execution_count": 22,
   "id": "5a1953ca",
   "metadata": {},
   "outputs": [],
   "source": [
    "import math"
   ]
  },
  {
   "cell_type": "code",
   "execution_count": 24,
   "id": "acebb1fa",
   "metadata": {},
   "outputs": [
    {
     "name": "stdout",
     "output_type": "stream",
     "text": [
      "['__doc__', '__loader__', '__name__', '__package__', '__spec__', 'acos', 'acosh', 'asin', 'asinh', 'atan', 'atan2', 'atanh', 'ceil', 'comb', 'copysign', 'cos', 'cosh', 'degrees', 'dist', 'e', 'erf', 'erfc', 'exp', 'expm1', 'fabs', 'factorial', 'floor', 'fmod', 'frexp', 'fsum', 'gamma', 'gcd', 'hypot', 'inf', 'isclose', 'isfinite', 'isinf', 'isnan', 'isqrt', 'lcm', 'ldexp', 'lgamma', 'log', 'log10', 'log1p', 'log2', 'modf', 'nan', 'nextafter', 'perm', 'pi', 'pow', 'prod', 'radians', 'remainder', 'sin', 'sinh', 'sqrt', 'tan', 'tanh', 'tau', 'trunc', 'ulp']\n"
     ]
    }
   ],
   "source": [
    "print(dir(math))"
   ]
  },
  {
   "cell_type": "code",
   "execution_count": 28,
   "id": "6b19af3c",
   "metadata": {},
   "outputs": [],
   "source": [
    "from math import *"
   ]
  },
  {
   "cell_type": "code",
   "execution_count": 26,
   "id": "a38478b5",
   "metadata": {},
   "outputs": [
    {
     "data": {
      "text/plain": [
       "4.0"
      ]
     },
     "execution_count": 26,
     "metadata": {},
     "output_type": "execute_result"
    }
   ],
   "source": [
    "sqrt(16)"
   ]
  },
  {
   "cell_type": "code",
   "execution_count": 27,
   "id": "99ae46fe",
   "metadata": {},
   "outputs": [
    {
     "data": {
      "text/plain": [
       "7.0"
      ]
     },
     "execution_count": 27,
     "metadata": {},
     "output_type": "execute_result"
    }
   ],
   "source": [
    "sqrt(49)"
   ]
  },
  {
   "cell_type": "code",
   "execution_count": 29,
   "id": "cd9f1ccf",
   "metadata": {},
   "outputs": [],
   "source": [
    "import math"
   ]
  },
  {
   "cell_type": "code",
   "execution_count": 30,
   "id": "83efbe4f",
   "metadata": {},
   "outputs": [
    {
     "data": {
      "text/plain": [
       "4.0"
      ]
     },
     "execution_count": 30,
     "metadata": {},
     "output_type": "execute_result"
    }
   ],
   "source": [
    "math.sqrt(16)"
   ]
  },
  {
   "cell_type": "markdown",
   "id": "014be539",
   "metadata": {},
   "source": [
    "### List "
   ]
  },
  {
   "cell_type": "code",
   "execution_count": 31,
   "id": "7cb521b0",
   "metadata": {},
   "outputs": [],
   "source": [
    "arr = [1,2,4,'g','jay',9, 7]"
   ]
  },
  {
   "cell_type": "code",
   "execution_count": 32,
   "id": "7c0ed423",
   "metadata": {},
   "outputs": [
    {
     "data": {
      "text/plain": [
       "[1, 2, 4, 'g', 'jay', 9, 7]"
      ]
     },
     "execution_count": 32,
     "metadata": {},
     "output_type": "execute_result"
    }
   ],
   "source": [
    "arr"
   ]
  },
  {
   "cell_type": "code",
   "execution_count": 33,
   "id": "a4d55075",
   "metadata": {},
   "outputs": [
    {
     "data": {
      "text/plain": [
       "list"
      ]
     },
     "execution_count": 33,
     "metadata": {},
     "output_type": "execute_result"
    }
   ],
   "source": [
    "type(arr)"
   ]
  },
  {
   "cell_type": "code",
   "execution_count": 34,
   "id": "4f4494cb",
   "metadata": {},
   "outputs": [],
   "source": [
    "l1 = []"
   ]
  },
  {
   "cell_type": "code",
   "execution_count": 35,
   "id": "6322dd1e",
   "metadata": {},
   "outputs": [],
   "source": [
    "l2 = [1,2,3]"
   ]
  },
  {
   "cell_type": "code",
   "execution_count": 36,
   "id": "bedece02",
   "metadata": {},
   "outputs": [],
   "source": [
    "l3 = ['a', 'b', 'k']"
   ]
  },
  {
   "cell_type": "code",
   "execution_count": 37,
   "id": "d9412ab7",
   "metadata": {},
   "outputs": [],
   "source": [
    "l4 = ['a', 7, 8, 'j']"
   ]
  },
  {
   "cell_type": "code",
   "execution_count": 38,
   "id": "9d13bc81",
   "metadata": {},
   "outputs": [
    {
     "data": {
      "text/plain": [
       "list"
      ]
     },
     "execution_count": 38,
     "metadata": {},
     "output_type": "execute_result"
    }
   ],
   "source": [
    "type(l4)"
   ]
  },
  {
   "cell_type": "code",
   "execution_count": 39,
   "id": "b4472cc2",
   "metadata": {},
   "outputs": [
    {
     "data": {
      "text/plain": [
       "[1, 2, 4, 'g', 'jay', 9, 7]"
      ]
     },
     "execution_count": 39,
     "metadata": {},
     "output_type": "execute_result"
    }
   ],
   "source": [
    "arr"
   ]
  },
  {
   "cell_type": "code",
   "execution_count": 40,
   "id": "df13d398",
   "metadata": {},
   "outputs": [],
   "source": [
    "# indexing start from 0 "
   ]
  },
  {
   "cell_type": "code",
   "execution_count": 41,
   "id": "152e2e0b",
   "metadata": {},
   "outputs": [
    {
     "data": {
      "text/plain": [
       "'g'"
      ]
     },
     "execution_count": 41,
     "metadata": {},
     "output_type": "execute_result"
    }
   ],
   "source": [
    "arr[3]"
   ]
  },
  {
   "cell_type": "code",
   "execution_count": 42,
   "id": "d6ef5aa5",
   "metadata": {},
   "outputs": [
    {
     "data": {
      "text/plain": [
       "1"
      ]
     },
     "execution_count": 42,
     "metadata": {},
     "output_type": "execute_result"
    }
   ],
   "source": [
    "arr[0]"
   ]
  },
  {
   "cell_type": "code",
   "execution_count": 43,
   "id": "3ac2dd54",
   "metadata": {},
   "outputs": [],
   "source": [
    "# backward indexing start from -1"
   ]
  },
  {
   "cell_type": "code",
   "execution_count": 44,
   "id": "4270dc02",
   "metadata": {},
   "outputs": [
    {
     "data": {
      "text/plain": [
       "7"
      ]
     },
     "execution_count": 44,
     "metadata": {},
     "output_type": "execute_result"
    }
   ],
   "source": [
    "arr[-1]"
   ]
  },
  {
   "cell_type": "code",
   "execution_count": 45,
   "id": "02938262",
   "metadata": {},
   "outputs": [
    {
     "data": {
      "text/plain": [
       "4"
      ]
     },
     "execution_count": 45,
     "metadata": {},
     "output_type": "execute_result"
    }
   ],
   "source": [
    "arr[-5]"
   ]
  },
  {
   "cell_type": "code",
   "execution_count": 46,
   "id": "37565f7e",
   "metadata": {},
   "outputs": [
    {
     "data": {
      "text/plain": [
       "[1, 2, 4, 'g', 'jay', 9, 7]"
      ]
     },
     "execution_count": 46,
     "metadata": {},
     "output_type": "execute_result"
    }
   ],
   "source": [
    "arr"
   ]
  },
  {
   "cell_type": "code",
   "execution_count": 47,
   "id": "d09b4a93",
   "metadata": {},
   "outputs": [
    {
     "data": {
      "text/plain": [
       "7"
      ]
     },
     "execution_count": 47,
     "metadata": {},
     "output_type": "execute_result"
    }
   ],
   "source": [
    "len(arr)"
   ]
  },
  {
   "cell_type": "code",
   "execution_count": 48,
   "id": "be290d32",
   "metadata": {},
   "outputs": [
    {
     "data": {
      "text/plain": [
       "4"
      ]
     },
     "execution_count": 48,
     "metadata": {},
     "output_type": "execute_result"
    }
   ],
   "source": [
    "len(l4)"
   ]
  },
  {
   "cell_type": "code",
   "execution_count": 49,
   "id": "83a6624d",
   "metadata": {},
   "outputs": [
    {
     "name": "stdout",
     "output_type": "stream",
     "text": [
      "Enter the list element space seperated: 1 2 3 4 5 6 7 8 9\n"
     ]
    }
   ],
   "source": [
    "a = input(\"Enter the list element space seperated: \")\n"
   ]
  },
  {
   "cell_type": "code",
   "execution_count": 50,
   "id": "caa02e16",
   "metadata": {},
   "outputs": [
    {
     "data": {
      "text/plain": [
       "'1 2 3 4 5 6 7 8 9'"
      ]
     },
     "execution_count": 50,
     "metadata": {},
     "output_type": "execute_result"
    }
   ],
   "source": [
    "a"
   ]
  },
  {
   "cell_type": "code",
   "execution_count": 59,
   "id": "e5519d3d",
   "metadata": {},
   "outputs": [],
   "source": [
    "list_input = a.split(' ')"
   ]
  },
  {
   "cell_type": "code",
   "execution_count": 60,
   "id": "15df1187",
   "metadata": {},
   "outputs": [
    {
     "data": {
      "text/plain": [
       "['1', '2', '3', '4', '5', '6', '7', '8', '9']"
      ]
     },
     "execution_count": 60,
     "metadata": {},
     "output_type": "execute_result"
    }
   ],
   "source": [
    "list_input"
   ]
  },
  {
   "cell_type": "code",
   "execution_count": 61,
   "id": "3909e161",
   "metadata": {},
   "outputs": [
    {
     "data": {
      "text/plain": [
       "[1, 2, 4, 'g', 'jay', 9, 7]"
      ]
     },
     "execution_count": 61,
     "metadata": {},
     "output_type": "execute_result"
    }
   ],
   "source": [
    "arr"
   ]
  },
  {
   "cell_type": "code",
   "execution_count": 62,
   "id": "8e4a1953",
   "metadata": {},
   "outputs": [],
   "source": [
    "arr.append(10)"
   ]
  },
  {
   "cell_type": "code",
   "execution_count": 63,
   "id": "ce22e690",
   "metadata": {},
   "outputs": [
    {
     "data": {
      "text/plain": [
       "[1, 2, 4, 'g', 'jay', 9, 7, 10]"
      ]
     },
     "execution_count": 63,
     "metadata": {},
     "output_type": "execute_result"
    }
   ],
   "source": [
    "arr"
   ]
  },
  {
   "cell_type": "code",
   "execution_count": 64,
   "id": "46c4f445",
   "metadata": {},
   "outputs": [],
   "source": [
    "arr.append('codejay')"
   ]
  },
  {
   "cell_type": "code",
   "execution_count": 65,
   "id": "4d9b1182",
   "metadata": {},
   "outputs": [
    {
     "data": {
      "text/plain": [
       "[1, 2, 4, 'g', 'jay', 9, 7, 10, 'codejay']"
      ]
     },
     "execution_count": 65,
     "metadata": {},
     "output_type": "execute_result"
    }
   ],
   "source": [
    "arr"
   ]
  },
  {
   "cell_type": "code",
   "execution_count": 68,
   "id": "a1fe7bbc",
   "metadata": {},
   "outputs": [],
   "source": [
    "array_input = []\n",
    "for i in range(1, 11):\n",
    "    array_input.append(i)\n",
    "    "
   ]
  },
  {
   "cell_type": "code",
   "execution_count": 69,
   "id": "d47cd0d5",
   "metadata": {},
   "outputs": [
    {
     "data": {
      "text/plain": [
       "[1, 2, 3, 4, 5, 6, 7, 8, 9, 10]"
      ]
     },
     "execution_count": 69,
     "metadata": {},
     "output_type": "execute_result"
    }
   ],
   "source": [
    "array_input"
   ]
  },
  {
   "cell_type": "code",
   "execution_count": 70,
   "id": "d6879232",
   "metadata": {},
   "outputs": [
    {
     "data": {
      "text/plain": [
       "[1, 2, 4, 'g', 'jay', 9, 7, 10, 'codejay']"
      ]
     },
     "execution_count": 70,
     "metadata": {},
     "output_type": "execute_result"
    }
   ],
   "source": [
    "arr"
   ]
  },
  {
   "cell_type": "code",
   "execution_count": 71,
   "id": "b3055c20",
   "metadata": {},
   "outputs": [
    {
     "data": {
      "text/plain": [
       "['a', 7, 8, 'j']"
      ]
     },
     "execution_count": 71,
     "metadata": {},
     "output_type": "execute_result"
    }
   ],
   "source": [
    "l4"
   ]
  },
  {
   "cell_type": "code",
   "execution_count": 72,
   "id": "57a957b6",
   "metadata": {},
   "outputs": [],
   "source": [
    "arr.extend(l4)"
   ]
  },
  {
   "cell_type": "code",
   "execution_count": 73,
   "id": "ccb3d651",
   "metadata": {},
   "outputs": [
    {
     "data": {
      "text/plain": [
       "[1, 2, 4, 'g', 'jay', 9, 7, 10, 'codejay', 'a', 7, 8, 'j']"
      ]
     },
     "execution_count": 73,
     "metadata": {},
     "output_type": "execute_result"
    }
   ],
   "source": [
    "arr"
   ]
  },
  {
   "cell_type": "code",
   "execution_count": 74,
   "id": "ada52c9f",
   "metadata": {},
   "outputs": [],
   "source": [
    "arr.insert(2, 123)"
   ]
  },
  {
   "cell_type": "code",
   "execution_count": 75,
   "id": "17eeb7b8",
   "metadata": {},
   "outputs": [
    {
     "data": {
      "text/plain": [
       "[1, 2, 123, 4, 'g', 'jay', 9, 7, 10, 'codejay', 'a', 7, 8, 'j']"
      ]
     },
     "execution_count": 75,
     "metadata": {},
     "output_type": "execute_result"
    }
   ],
   "source": [
    "arr"
   ]
  },
  {
   "cell_type": "code",
   "execution_count": 76,
   "id": "cc3a5718",
   "metadata": {},
   "outputs": [
    {
     "data": {
      "text/plain": [
       "14"
      ]
     },
     "execution_count": 76,
     "metadata": {},
     "output_type": "execute_result"
    }
   ],
   "source": [
    "len(arr)"
   ]
  },
  {
   "cell_type": "code",
   "execution_count": 77,
   "id": "fb7d2e12",
   "metadata": {},
   "outputs": [],
   "source": [
    "arr.reverse()"
   ]
  },
  {
   "cell_type": "code",
   "execution_count": 78,
   "id": "40f3716d",
   "metadata": {},
   "outputs": [
    {
     "data": {
      "text/plain": [
       "['j', 8, 7, 'a', 'codejay', 10, 7, 9, 'jay', 'g', 4, 123, 2, 1]"
      ]
     },
     "execution_count": 78,
     "metadata": {},
     "output_type": "execute_result"
    }
   ],
   "source": [
    "arr"
   ]
  },
  {
   "cell_type": "code",
   "execution_count": 79,
   "id": "d9bc6884",
   "metadata": {},
   "outputs": [],
   "source": [
    "arr.remove('g')"
   ]
  },
  {
   "cell_type": "code",
   "execution_count": 80,
   "id": "a1184402",
   "metadata": {},
   "outputs": [
    {
     "data": {
      "text/plain": [
       "['j', 8, 7, 'a', 'codejay', 10, 7, 9, 'jay', 4, 123, 2, 1]"
      ]
     },
     "execution_count": 80,
     "metadata": {},
     "output_type": "execute_result"
    }
   ],
   "source": [
    "arr"
   ]
  },
  {
   "cell_type": "code",
   "execution_count": 81,
   "id": "dcc1a27c",
   "metadata": {},
   "outputs": [
    {
     "data": {
      "text/plain": [
       "7"
      ]
     },
     "execution_count": 81,
     "metadata": {},
     "output_type": "execute_result"
    }
   ],
   "source": [
    "arr.pop(2)"
   ]
  },
  {
   "cell_type": "code",
   "execution_count": 82,
   "id": "95571750",
   "metadata": {},
   "outputs": [
    {
     "data": {
      "text/plain": [
       "['j', 8, 'a', 'codejay', 10, 7, 9, 'jay', 4, 123, 2, 1]"
      ]
     },
     "execution_count": 82,
     "metadata": {},
     "output_type": "execute_result"
    }
   ],
   "source": [
    "arr"
   ]
  },
  {
   "cell_type": "code",
   "execution_count": 83,
   "id": "01b4624a",
   "metadata": {},
   "outputs": [
    {
     "data": {
      "text/plain": [
       "[8, 'a', 'codejay', 10]"
      ]
     },
     "execution_count": 83,
     "metadata": {},
     "output_type": "execute_result"
    }
   ],
   "source": [
    "arr[1:5]"
   ]
  },
  {
   "cell_type": "code",
   "execution_count": 84,
   "id": "e5565a4a",
   "metadata": {},
   "outputs": [
    {
     "data": {
      "text/plain": [
       "[8, 'a', 'codejay', 10, 7, 9, 'jay', 4, 123, 2, 1]"
      ]
     },
     "execution_count": 84,
     "metadata": {},
     "output_type": "execute_result"
    }
   ],
   "source": [
    "arr[1:]"
   ]
  },
  {
   "cell_type": "code",
   "execution_count": 85,
   "id": "f1dd863d",
   "metadata": {},
   "outputs": [
    {
     "data": {
      "text/plain": [
       "['j', 8, 'a', 'codejay', 10, 7, 9, 'jay', 4, 123, 2]"
      ]
     },
     "execution_count": 85,
     "metadata": {},
     "output_type": "execute_result"
    }
   ],
   "source": [
    "arr[:-1]"
   ]
  },
  {
   "cell_type": "code",
   "execution_count": 86,
   "id": "64fab45d",
   "metadata": {},
   "outputs": [
    {
     "data": {
      "text/plain": [
       "['j', 8, 'a', 'codejay', 10, 7, 9, 'jay']"
      ]
     },
     "execution_count": 86,
     "metadata": {},
     "output_type": "execute_result"
    }
   ],
   "source": [
    "arr[:-4]"
   ]
  },
  {
   "cell_type": "code",
   "execution_count": null,
   "id": "be7dc282",
   "metadata": {},
   "outputs": [],
   "source": []
  }
 ],
 "metadata": {
  "kernelspec": {
   "display_name": "Python 3 (ipykernel)",
   "language": "python",
   "name": "python3"
  },
  "language_info": {
   "codemirror_mode": {
    "name": "ipython",
    "version": 3
   },
   "file_extension": ".py",
   "mimetype": "text/x-python",
   "name": "python",
   "nbconvert_exporter": "python",
   "pygments_lexer": "ipython3",
   "version": "3.9.7"
  }
 },
 "nbformat": 4,
 "nbformat_minor": 5
}
